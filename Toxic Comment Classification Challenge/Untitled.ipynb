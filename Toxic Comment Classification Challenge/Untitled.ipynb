{
 "cells": [
  {
   "cell_type": "markdown",
   "metadata": {},
   "source": [
    "## Read Data"
   ]
  },
  {
   "cell_type": "code",
   "execution_count": 1,
   "metadata": {},
   "outputs": [],
   "source": [
    "import warnings\n",
    "warnings.filterwarnings(\"ignore\")\n",
    "\n",
    "import re\n",
    "import numpy as np\n",
    "import pandas as pd\n",
    "import nltk\n",
    "import matplotlib.pyplot as plt\n",
    "%matplotlib inline\n",
    "\n",
    "import tensorflow as tf"
   ]
  },
  {
   "cell_type": "code",
   "execution_count": 2,
   "metadata": {
    "scrolled": true
   },
   "outputs": [
    {
     "data": {
      "text/html": [
       "<div>\n",
       "<style scoped>\n",
       "    .dataframe tbody tr th:only-of-type {\n",
       "        vertical-align: middle;\n",
       "    }\n",
       "\n",
       "    .dataframe tbody tr th {\n",
       "        vertical-align: top;\n",
       "    }\n",
       "\n",
       "    .dataframe thead th {\n",
       "        text-align: right;\n",
       "    }\n",
       "</style>\n",
       "<table border=\"1\" class=\"dataframe\">\n",
       "  <thead>\n",
       "    <tr style=\"text-align: right;\">\n",
       "      <th></th>\n",
       "      <th>id</th>\n",
       "      <th>comment_text</th>\n",
       "      <th>length</th>\n",
       "      <th>toxic</th>\n",
       "      <th>severe_toxic</th>\n",
       "      <th>obscene</th>\n",
       "      <th>threat</th>\n",
       "      <th>insult</th>\n",
       "      <th>identity_hate</th>\n",
       "    </tr>\n",
       "  </thead>\n",
       "  <tbody>\n",
       "    <tr>\n",
       "      <th>0</th>\n",
       "      <td>0000997932d777bf</td>\n",
       "      <td>Explanation\\nWhy the edits made under my usern...</td>\n",
       "      <td>264</td>\n",
       "      <td>0</td>\n",
       "      <td>0</td>\n",
       "      <td>0</td>\n",
       "      <td>0</td>\n",
       "      <td>0</td>\n",
       "      <td>0</td>\n",
       "    </tr>\n",
       "    <tr>\n",
       "      <th>1</th>\n",
       "      <td>000103f0d9cfb60f</td>\n",
       "      <td>D'aww! He matches this background colour I'm s...</td>\n",
       "      <td>112</td>\n",
       "      <td>0</td>\n",
       "      <td>0</td>\n",
       "      <td>0</td>\n",
       "      <td>0</td>\n",
       "      <td>0</td>\n",
       "      <td>0</td>\n",
       "    </tr>\n",
       "    <tr>\n",
       "      <th>2</th>\n",
       "      <td>000113f07ec002fd</td>\n",
       "      <td>Hey man, I'm really not trying to edit war. It...</td>\n",
       "      <td>233</td>\n",
       "      <td>0</td>\n",
       "      <td>0</td>\n",
       "      <td>0</td>\n",
       "      <td>0</td>\n",
       "      <td>0</td>\n",
       "      <td>0</td>\n",
       "    </tr>\n",
       "    <tr>\n",
       "      <th>3</th>\n",
       "      <td>0001b41b1c6bb37e</td>\n",
       "      <td>\"\\nMore\\nI can't make any real suggestions on ...</td>\n",
       "      <td>622</td>\n",
       "      <td>0</td>\n",
       "      <td>0</td>\n",
       "      <td>0</td>\n",
       "      <td>0</td>\n",
       "      <td>0</td>\n",
       "      <td>0</td>\n",
       "    </tr>\n",
       "    <tr>\n",
       "      <th>4</th>\n",
       "      <td>0001d958c54c6e35</td>\n",
       "      <td>You, sir, are my hero. Any chance you remember...</td>\n",
       "      <td>67</td>\n",
       "      <td>0</td>\n",
       "      <td>0</td>\n",
       "      <td>0</td>\n",
       "      <td>0</td>\n",
       "      <td>0</td>\n",
       "      <td>0</td>\n",
       "    </tr>\n",
       "  </tbody>\n",
       "</table>\n",
       "</div>"
      ],
      "text/plain": [
       "                 id                                       comment_text  \\\n",
       "0  0000997932d777bf  Explanation\\nWhy the edits made under my usern...   \n",
       "1  000103f0d9cfb60f  D'aww! He matches this background colour I'm s...   \n",
       "2  000113f07ec002fd  Hey man, I'm really not trying to edit war. It...   \n",
       "3  0001b41b1c6bb37e  \"\\nMore\\nI can't make any real suggestions on ...   \n",
       "4  0001d958c54c6e35  You, sir, are my hero. Any chance you remember...   \n",
       "\n",
       "   length  toxic  severe_toxic  obscene  threat  insult  identity_hate  \n",
       "0     264      0             0        0       0       0              0  \n",
       "1     112      0             0        0       0       0              0  \n",
       "2     233      0             0        0       0       0              0  \n",
       "3     622      0             0        0       0       0              0  \n",
       "4      67      0             0        0       0       0              0  "
      ]
     },
     "execution_count": 2,
     "metadata": {},
     "output_type": "execute_result"
    }
   ],
   "source": [
    "df = pd.read_csv('./train.csv')\n",
    "col = list(df.columns)\n",
    "df['length'] = df.comment_text.apply(lambda x : len(x))\n",
    "df = df[col[:2]+ ['length'] + col[2:]]\n",
    "df.head()"
   ]
  },
  {
   "cell_type": "code",
   "execution_count": 3,
   "metadata": {},
   "outputs": [
    {
     "name": "stdout",
     "output_type": "stream",
     "text": [
      "toxic            9.584448\n",
      "severe_toxic     0.999555\n",
      "obscene          5.294822\n",
      "threat           0.299553\n",
      "insult           4.936361\n",
      "identity_hate    0.880486\n",
      "Name: mean, dtype: float64\n"
     ]
    }
   ],
   "source": [
    "print(df.describe().loc['mean'].iloc[1:]*100)"
   ]
  },
  {
   "cell_type": "markdown",
   "metadata": {},
   "source": [
    "<hr/>\n",
    "기본적으로 데이터를 살펴보면, 각 클레스는 대략적으로 10% 미만으로 1로 라벨링이 된 것을 확인할 수 있다.  \n",
    "모든 클래스에 대해서 데이터의 불균형이 심한 상태이다.  \n",
    "Imbalance를 고려하여 Loss에 가중치를 주어서 트레이닝 시킨다.  \n",
    "기본적인 cross-entropy Loss 에서 label 이 1일 때의 가중치(w>=1)를 주어 Recall을 증가시킬 수 있도록 하자.  \n",
    "여러 가중치를 실험해본다.\n",
    "\n",
    "기본적인 전략은 각 클래스별로 모델을 학습시켜 Classify 하는 것이다.  \n",
    "다음과 같은 방법을 적용하여 문제를 해결해 볼 것이다.\n",
    "\n",
    "\n",
    "    1. Sentence embedding -> dense network \n",
    "        1-1 : LSTM \n",
    "        1-2 : Conv\n",
    "        \n",
    "    2. Attention Layer로 구성한 Model을 통해 각각의 클래스 마다 모델을 만들어 예측하는 전략을 취한다.     \n",
    "    3. SVM\n",
    "    4. Decision Tree / Random forest\n",
    "    5. Ensenble\n",
    "<hr/>"
   ]
  },
  {
   "cell_type": "code",
   "execution_count": 4,
   "metadata": {},
   "outputs": [
    {
     "name": "stdout",
     "output_type": "stream",
     "text": [
      "13699\n",
      "1595\n",
      "0\n"
     ]
    }
   ],
   "source": [
    "print(len(df[(df.toxic == 1) & (df.severe_toxic == 0)]))\n",
    "print(len(df[(df.toxic == 1) & (df.severe_toxic == 1)]))\n",
    "print(len(df[(df.toxic == 0) & (df.severe_toxic == 1)]))"
   ]
  },
  {
   "cell_type": "markdown",
   "metadata": {},
   "source": [
    "이때 severe_toxic class는 항상 toxic class인 경우에만 성립하므로  \n",
    "toxic을 classify한 이후에 severe_toxic class를 classify 하도록 training 한다. "
   ]
  },
  {
   "cell_type": "markdown",
   "metadata": {},
   "source": [
    "## Text Preprocessing"
   ]
  },
  {
   "cell_type": "markdown",
   "metadata": {},
   "source": [
    "### Stemming "
   ]
  },
  {
   "cell_type": "markdown",
   "metadata": {},
   "source": [
    "같은 의미의 단어이되 인칭의 변화 등 문법적인 이유로 형태가 다른 단어들을 같은 형태로 변환시켜준다.  \n",
    "여기에는 대문자를 소문자로 바꾸는 것도 포함된다. "
   ]
  },
  {
   "cell_type": "code",
   "execution_count": 5,
   "metadata": {},
   "outputs": [],
   "source": [
    "stemmer = nltk.stem.SnowballStemmer('english')"
   ]
  },
  {
   "cell_type": "code",
   "execution_count": 6,
   "metadata": {},
   "outputs": [],
   "source": [
    "df['comment_text'] = df.comment_text.apply(lambda text: ' '.join(map(lambda word: stemmer.stem(word), re.split(' |\\n', text))))"
   ]
  },
  {
   "cell_type": "code",
   "execution_count": 8,
   "metadata": {},
   "outputs": [
    {
     "data": {
      "text/html": [
       "<div>\n",
       "<style scoped>\n",
       "    .dataframe tbody tr th:only-of-type {\n",
       "        vertical-align: middle;\n",
       "    }\n",
       "\n",
       "    .dataframe tbody tr th {\n",
       "        vertical-align: top;\n",
       "    }\n",
       "\n",
       "    .dataframe thead th {\n",
       "        text-align: right;\n",
       "    }\n",
       "</style>\n",
       "<table border=\"1\" class=\"dataframe\">\n",
       "  <thead>\n",
       "    <tr style=\"text-align: right;\">\n",
       "      <th></th>\n",
       "      <th>id</th>\n",
       "      <th>comment_text</th>\n",
       "      <th>length</th>\n",
       "      <th>toxic</th>\n",
       "      <th>severe_toxic</th>\n",
       "      <th>obscene</th>\n",
       "      <th>threat</th>\n",
       "      <th>insult</th>\n",
       "      <th>identity_hate</th>\n",
       "    </tr>\n",
       "  </thead>\n",
       "  <tbody>\n",
       "    <tr>\n",
       "      <th>0</th>\n",
       "      <td>0000997932d777bf</td>\n",
       "      <td>explan whi the edit made under my usernam hard...</td>\n",
       "      <td>264</td>\n",
       "      <td>0</td>\n",
       "      <td>0</td>\n",
       "      <td>0</td>\n",
       "      <td>0</td>\n",
       "      <td>0</td>\n",
       "      <td>0</td>\n",
       "    </tr>\n",
       "    <tr>\n",
       "      <th>1</th>\n",
       "      <td>000103f0d9cfb60f</td>\n",
       "      <td>d'aww! he match this background colour i'm see...</td>\n",
       "      <td>112</td>\n",
       "      <td>0</td>\n",
       "      <td>0</td>\n",
       "      <td>0</td>\n",
       "      <td>0</td>\n",
       "      <td>0</td>\n",
       "      <td>0</td>\n",
       "    </tr>\n",
       "    <tr>\n",
       "      <th>2</th>\n",
       "      <td>000113f07ec002fd</td>\n",
       "      <td>hey man, i'm realli not tri to edit war. it ju...</td>\n",
       "      <td>233</td>\n",
       "      <td>0</td>\n",
       "      <td>0</td>\n",
       "      <td>0</td>\n",
       "      <td>0</td>\n",
       "      <td>0</td>\n",
       "      <td>0</td>\n",
       "    </tr>\n",
       "    <tr>\n",
       "      <th>3</th>\n",
       "      <td>0001b41b1c6bb37e</td>\n",
       "      <td>\" more i can't make ani real suggest on improv...</td>\n",
       "      <td>622</td>\n",
       "      <td>0</td>\n",
       "      <td>0</td>\n",
       "      <td>0</td>\n",
       "      <td>0</td>\n",
       "      <td>0</td>\n",
       "      <td>0</td>\n",
       "    </tr>\n",
       "    <tr>\n",
       "      <th>4</th>\n",
       "      <td>0001d958c54c6e35</td>\n",
       "      <td>you, sir, are my hero. ani chanc you rememb wh...</td>\n",
       "      <td>67</td>\n",
       "      <td>0</td>\n",
       "      <td>0</td>\n",
       "      <td>0</td>\n",
       "      <td>0</td>\n",
       "      <td>0</td>\n",
       "      <td>0</td>\n",
       "    </tr>\n",
       "  </tbody>\n",
       "</table>\n",
       "</div>"
      ],
      "text/plain": [
       "                 id                                       comment_text  \\\n",
       "0  0000997932d777bf  explan whi the edit made under my usernam hard...   \n",
       "1  000103f0d9cfb60f  d'aww! he match this background colour i'm see...   \n",
       "2  000113f07ec002fd  hey man, i'm realli not tri to edit war. it ju...   \n",
       "3  0001b41b1c6bb37e  \" more i can't make ani real suggest on improv...   \n",
       "4  0001d958c54c6e35  you, sir, are my hero. ani chanc you rememb wh...   \n",
       "\n",
       "   length  toxic  severe_toxic  obscene  threat  insult  identity_hate  \n",
       "0     264      0             0        0       0       0              0  \n",
       "1     112      0             0        0       0       0              0  \n",
       "2     233      0             0        0       0       0              0  \n",
       "3     622      0             0        0       0       0              0  \n",
       "4      67      0             0        0       0       0              0  "
      ]
     },
     "execution_count": 8,
     "metadata": {},
     "output_type": "execute_result"
    }
   ],
   "source": [
    "df.head()"
   ]
  },
  {
   "cell_type": "markdown",
   "metadata": {},
   "source": [
    "## 1. Method of RNN"
   ]
  },
  {
   "cell_type": "markdown",
   "metadata": {},
   "source": [
    "현재 사용된 샘플에서의 feature의 수(# of voca)가 매우 많기 때문에 임베딩이 필요하다.  \n",
    "다음과 같은 두가지 방법을 이용하여 접근하여 보자.\n",
    "\n",
    "> 1. Embedding layer를 포함한 Model을 Training \n",
    "> 2. Word2Vec을 이용한 Pretrained embedding layer를 사용하여 Training "
   ]
  },
  {
   "cell_type": "code",
   "execution_count": 11,
   "metadata": {},
   "outputs": [
    {
     "name": "stdout",
     "output_type": "stream",
     "text": [
      "# of voca: 420953\n"
     ]
    }
   ],
   "source": [
    "print('# of voca: {}'.format(len(set([word for doc in df.comment_text for word in doc.split(' ')]))))"
   ]
  },
  {
   "cell_type": "markdown",
   "metadata": {},
   "source": [
    "RNN 구조는 길이가 지나치게 긴 문장에 대해 Backpropagation이 잘 이루어지지 않으므로, 문장 길이를 제한한다.  \n",
    "문장길이의 분포를 살펴보면, 대부분이 1000자 이하의 글자로 구성되어 있으므로 1000자 이하의 표본을 이용하여 학습시킨다."
   ]
  },
  {
   "cell_type": "code",
   "execution_count": 10,
   "metadata": {},
   "outputs": [
    {
     "data": {
      "text/plain": [
       "<matplotlib.axes._subplots.AxesSubplot at 0x1dd0fc50>"
      ]
     },
     "execution_count": 10,
     "metadata": {},
     "output_type": "execute_result"
    },
    {
     "data": {
      "image/png": "[encoded data removed]",
      "text/plain": [
       "<matplotlib.figure.Figure at 0x1c46c240>"
      ]
     },
     "metadata": {},
     "output_type": "display_data"
    }
   ],
   "source": [
    "df.length.plot.hist()"
   ]
  },
  {
   "cell_type": "code",
   "execution_count": 7,
   "metadata": {
    "scrolled": false
   },
   "outputs": [
    {
     "name": "stdout",
     "output_type": "stream",
     "text": [
      "length <= 1000 : 146211\n",
      "length >  1000 : 13360\n"
     ]
    }
   ],
   "source": [
    "print('length <= 1000 : {}'.format(sum(df.length<=1000)))\n",
    "print('length >  1000 : {}'.format(sum(df.length>1000)))"
   ]
  },
  {
   "cell_type": "code",
   "execution_count": 8,
   "metadata": {},
   "outputs": [],
   "source": [
    "df = df[df.length<=1000]"
   ]
  },
  {
   "cell_type": "markdown",
   "metadata": {},
   "source": [
    "평균적으로 한 Document 당 vocab의 분포와 평균적인 개수는 다음과 같다.  \n",
    "RNN의 Batch sequence length를 200으로 설정하고 Dataset을 구성한다."
   ]
  },
  {
   "cell_type": "code",
   "execution_count": 36,
   "metadata": {},
   "outputs": [
    {
     "name": "stdout",
     "output_type": "stream",
     "text": [
      "평균적인 vocab의 숫자 : 70.39\n"
     ]
    },
    {
     "data": {
      "image/png": "[encoded data removed]",
      "text/plain": [
       "<matplotlib.figure.Figure at 0x24f8f588>"
      ]
     },
     "metadata": {},
     "output_type": "display_data"
    }
   ],
   "source": [
    "df.comment_text.apply(lambda txt: len(txt.split(' '))).plot.hist()\n",
    "print('평균적인 vocab의 숫자 : {:.2f}'.format(np.mean(df.comment_text.apply(lambda txt: len(txt.split(' '))))))"
   ]
  },
  {
   "cell_type": "markdown",
   "metadata": {},
   "source": [
    "### Without Word2Vec"
   ]
  },
  {
   "cell_type": "code",
   "execution_count": 37,
   "metadata": {},
   "outputs": [],
   "source": [
    "max_length =  200"
   ]
  },
  {
   "cell_type": "code",
   "execution_count": 70,
   "metadata": {},
   "outputs": [],
   "source": [
    "voca_list = list(set([corpus.lower() for list_ in df.comment_text.apply(lambda x : x.split('\\n')) for line in list_ for corpus in line.split()]))\n",
    "voca2int = {voca: idx for idx, voca in zip(voca_list, range(1, len(voca_list) + 1 ))}\n",
    "int2voca = {idx: voca for idx, voca in zip(voca_list, range(1, len(voca_list) + 1 ))}\n",
    "voca2int['<pad>'] = 0\n",
    "int2voca[0] = '<pad>'"
   ]
  },
  {
   "cell_type": "code",
   "execution_count": 8,
   "metadata": {},
   "outputs": [
    {
     "ename": "NameError",
     "evalue": "name 'int2voca' is not defined",
     "output_type": "error",
     "traceback": [
      "\u001b[1;31m---------------------------------------------------------------------------\u001b[0m",
      "\u001b[1;31mNameError\u001b[0m                                 Traceback (most recent call last)",
      "\u001b[1;32m<ipython-input-8-64e8a90b414b>\u001b[0m in \u001b[0;36m<module>\u001b[1;34m()\u001b[0m\n\u001b[0;32m      8\u001b[0m         \u001b[0mself\u001b[0m\u001b[1;33m.\u001b[0m\u001b[0minit_learning_rate\u001b[0m \u001b[1;33m=\u001b[0m \u001b[1;36m0.01\u001b[0m\u001b[1;33m\u001b[0m\u001b[0m\n\u001b[0;32m      9\u001b[0m \u001b[1;33m\u001b[0m\u001b[0m\n\u001b[1;32m---> 10\u001b[1;33m \u001b[0mhparam\u001b[0m \u001b[1;33m=\u001b[0m \u001b[0mHparam\u001b[0m\u001b[1;33m(\u001b[0m\u001b[1;33m)\u001b[0m\u001b[1;33m\u001b[0m\u001b[0m\n\u001b[0m",
      "\u001b[1;32m<ipython-input-8-64e8a90b414b>\u001b[0m in \u001b[0;36m__init__\u001b[1;34m(self)\u001b[0m\n\u001b[0;32m      1\u001b[0m \u001b[1;32mclass\u001b[0m \u001b[0mHparam\u001b[0m\u001b[1;33m(\u001b[0m\u001b[0mobject\u001b[0m\u001b[1;33m)\u001b[0m\u001b[1;33m:\u001b[0m\u001b[1;33m\u001b[0m\u001b[0m\n\u001b[0;32m      2\u001b[0m     \u001b[1;32mdef\u001b[0m \u001b[0m__init__\u001b[0m\u001b[1;33m(\u001b[0m\u001b[0mself\u001b[0m\u001b[1;33m)\u001b[0m\u001b[1;33m:\u001b[0m\u001b[1;33m\u001b[0m\u001b[0m\n\u001b[1;32m----> 3\u001b[1;33m         \u001b[0mself\u001b[0m\u001b[1;33m.\u001b[0m\u001b[0mvocab_size\u001b[0m \u001b[1;33m=\u001b[0m \u001b[0mlen\u001b[0m\u001b[1;33m(\u001b[0m\u001b[0mint2voca\u001b[0m\u001b[1;33m)\u001b[0m\u001b[1;33m\u001b[0m\u001b[0m\n\u001b[0m\u001b[0;32m      4\u001b[0m         \u001b[0mself\u001b[0m\u001b[1;33m.\u001b[0m\u001b[0membedding_size\u001b[0m \u001b[1;33m=\u001b[0m \u001b[1;36m100\u001b[0m\u001b[1;33m\u001b[0m\u001b[0m\n\u001b[0;32m      5\u001b[0m         \u001b[0mself\u001b[0m\u001b[1;33m.\u001b[0m\u001b[0mrnn_unit_1\u001b[0m \u001b[1;33m=\u001b[0m \u001b[1;36m128\u001b[0m\u001b[1;33m\u001b[0m\u001b[0m\n",
      "\u001b[1;31mNameError\u001b[0m: name 'int2voca' is not defined"
     ]
    }
   ],
   "source": [
    "class Hparam(object):\n",
    "    def __init__(self):\n",
    "        self.vocab_size = len(int2voca)\n",
    "        self.embedding_size = 100\n",
    "        self.rnn_unit_1 = 128\n",
    "        self.rnn_unit_2 = 256\n",
    "        self.dense_unit = 128\n",
    "        self.init_learning_rate = 0.01\n",
    "\n",
    "hparam = Hparam()"
   ]
  },
  {
   "cell_type": "code",
   "execution_count": 1,
   "metadata": {},
   "outputs": [],
   "source": [
    "def Model(object):\n",
    "    def __init__(self, inputs, labels, eval_inputs, eval_labels, data_init, hparam):\n",
    "        \n",
    "        self.inputs = inputs\n",
    "        self.labels = labels\n",
    "        self.data_init = data_init\n",
    "\n",
    "        self.vocab_size = hparam.vocab_size\n",
    "        self.embedding_size = hparam.embedding_size\n",
    "        self.rnn_unit_1 = hparam.rnn_unit_1\n",
    "        self.rnn_unit_2 = hparam.rnn_unit_2\n",
    "        self.dense_unit = hparam.dense_unit\n",
    "        self.init_learning_rate = hparam.init_learning_rate\n",
    "        \n",
    "        self._build()\n",
    "        self._init_step_and_epoch()\n",
    "        self._init_saver()\n",
    "        \n",
    "    def _build():\n",
    "        \"\"\"Build tensorflow graph\"\"\"\n",
    "        \n",
    "        # 2-D tensor [B, T] inputs\n",
    "        with tf.variable_scope('Embed'):\n",
    "            \n",
    "            embed = tf.contrib.layers.embed_sequence(ids=self.inputs,\n",
    "                                                     vocab_size=self.vocab_size, \n",
    "                                                     embed_dim=embedding_size)\n",
    "            \n",
    "        # now 3-D tensor [B, T, C]\n",
    "        with tf.variable_scope('RNN'):\n",
    "            rnn_layers = [tf.contrib.rnn.BasicLSTMCell(size, activation=tf.nn.sigmoid) for size in [self.rnn_unit_1, self.rnn_unit2]]\n",
    "            self.cell = tf.nn.rnn_cell.DropoutWrapper(tf.nn.rnn_cell.MultiRNNCell(rnn_layers))\n",
    "            _, state = tf.nn.dynamic_rnn(cell=cell, inputs=embed)\n",
    "                    \n",
    "        with tf.variable_scope('Dense'):\n",
    "            layer1= tf.layers.batch_normalization(tf.layers.dense(state,self.dense_unit, activation=tf.nn.sigmoid))\n",
    "            self.logits = tf.layers.dense(layer1, 2, activation=None)\n",
    "            \n",
    "        self.learning_rate = tf.train.exponential_decay(self.init_learning_rate, \n",
    "                                                        self.global_step, \n",
    "                                                        decay_steps=1000, \n",
    "                                                        decay_rate=0.9)\n",
    "        \n",
    "        self.loss = tf.reduce_mean(tf.nn.weighted_cross_entropy_with_logits(targets=tf.one_hot(self.labels, depth=2), \n",
    "                                                                            logits=self.logits, \n",
    "                                                                            pos_weight=3.0))\n",
    "        \n",
    "        self.optimizer = tf.train.AdamOptimizer(learning_rate=self.learning_rate)\n",
    "        \n",
    "        gvs = self.optimizer.compute_gradients(self.loss, \n",
    "                                               tf.get_collection(tf.GraphKeys.TRAINABLE_VARIABLES))\n",
    "        \n",
    "        cliped_grad = [(tf.clip_by_value(grad, -1.,1.), var) for grad, var in gvs]\n",
    "        self.train_op = self.optimizer.apply_gradient(cliped_grad, global_step = self.global_step)\n",
    "        \n",
    "        \n",
    "        self.prediction = tf.argmax(self.logits, axis=-1)    \n",
    "        self.accuracy = tf.reduce_mean(tf.equal(self.prediction, self.labels), name='accuracy')\n",
    "        \n",
    "        # metrics : [Loss, accuracy]\n",
    "        tf.summary.scalar(self.accuracy)\n",
    "        tf.summary.scalar(self.loss)\n",
    "        self.merge = tf.summary.merge_all()\n",
    "        \n",
    "    def _init_saver():\n",
    "        self.saver = tf.train.Saver(var_list=tf.get_collection(tf.GraphKeys.GLOBAL_VARIABLES))\n",
    "        \n",
    "    def _init_step_and_epoch():\n",
    "        self.global_step = tf.get_variable('global_step', initializer=tf.constant_initializer(0))\n",
    "        self.epoch = tf.get_variable('epoch', initializer=tf.constant_initializer(0))\n",
    "        \n",
    "    def train(self, sess, epoch):\n",
    "        sess.run([tf.global_variables_initializer(), self.data_init])\n",
    "        \n",
    "        while(1):\n",
    "            try:\n",
    "                sess.run(self.train_op)\n",
    "\n",
    "            except tf.errors.OutOfRangeError:\n",
    "                self.epoch = tf.add(self.epoch, 1)\n",
    "                sess.run([self.data_init, self.merge])\n",
    "\n",
    "    def evaluate(self, sess):\n",
    "        pass\n",
    "    \n",
    "    def predict(self, inputs):\n",
    "        pass\n",
    "    \n",
    "    def save():\n",
    "        saver.save(sess, './ckpt/{}_epoch'.format(e)) \n",
    "        print('Graph is saved')\n",
    "    \n",
    "    def load():\n",
    "        self.saver.restore(sess, tf.train.latest_checkpoint('./ckpt'))    \n",
    "        print('Graph is loaded')"
   ]
  },
  {
   "cell_type": "markdown",
   "metadata": {},
   "source": [
    "이때 구글에서 미리 트레이닝시켜 놓은 word2vec을 이용하여 300차원으로 Embedding 시킨다.  \n",
    "이 후에 LSTM cell을 이용한 RNN 을 이용하여 문장을 Encoding 시킨 후 Dense network를 이용하여 Classify 해보자."
   ]
  }
 ],
 "metadata": {
  "kernelspec": {
   "display_name": "Python [default]",
   "language": "python",
   "name": "python3"
  },
  "language_info": {
   "codemirror_mode": {
    "name": "ipython",
    "version": 3
   },
   "file_extension": ".py",
   "mimetype": "text/x-python",
   "name": "python",
   "nbconvert_exporter": "python",
   "pygments_lexer": "ipython3",
   "version": "3.6.3"
  }
 },
 "nbformat": 4,
 "nbformat_minor": 2
}
