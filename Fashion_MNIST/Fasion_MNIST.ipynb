{
 "cells": [
  {
   "cell_type": "markdown",
   "metadata": {},
   "source": [
    "# FASHION MNIST DATA CLASSIFICATION"
   ]
  },
  {
   "cell_type": "markdown",
   "metadata": {},
   "source": [
    "## OSEMN Pipeline\n",
    "\n",
    "I’ll be following a typical data science pipeline, which is call “OSEMN” (pronounced awesome).\n",
    "\n",
    "**O**btaining the data is the first approach in solving the problem.\n",
    "\n",
    "**S**crubbing or cleaning the data is the next step. This includes data imputation of missing or invalid data and fixing column names.\n",
    "\n",
    "\n",
    "**E**xploring the data will follow right after and allow further insight of what our dataset contains. Looking for any outliers or weird data. Understanding the relationship each explanatory variable has with the response variable resides here and we can do this with a correlation matrix.\n",
    "\n",
    "\n",
    "**M**odeling the data will give us our predictive power on whether an employee will leave.\n",
    "\n",
    "I**N**terpreting the data is last. With all the results and analysis of the data, what conclusion is made? What factors contributed most to employee turnover? What relationship of variables were found?"
   ]
  },
  {
   "cell_type": "markdown",
   "metadata": {},
   "source": [
    "## Obtaining the data & Scrubbing (cleaning) "
   ]
  },
  {
   "cell_type": "markdown",
   "metadata": {},
   "source": [
    "First import modules and laod data. Beause data is alread well preprocessed , There is no need to preprocessing"
   ]
  },
  {
   "cell_type": "code",
   "execution_count": 1,
   "metadata": {
    "scrolled": true
   },
   "outputs": [],
   "source": [
    "import warnings\n",
    "warnings.simplefilter(action='ignore', category=FutureWarning)\n",
    "\n",
    "import numpy as np\n",
    "import pandas as pd\n",
    "from sklearn import model_selection\n",
    "\n",
    "import matplotlib.pyplot as plt\n",
    "from tqdm import tqdm\n",
    "%matplotlib inline\n",
    "\n",
    "import tensorflow as tf"
   ]
  },
  {
   "cell_type": "code",
   "execution_count": 2,
   "metadata": {},
   "outputs": [],
   "source": [
    "train_df = pd.read_csv('./data/fashion-mnist_train.csv')\n",
    "train_y = train_df['label']\n",
    "train_x = train_df.xs(list(train_df.columns)[1:], axis=1)\n",
    "train_x.apply( lambda x :(x - min(x))/ (max(x) - min(x)))\n",
    "\n",
    "train_x, train_x_cv, train_y, train_y_cv = model_selection.train_test_split(train_x, train_y, train_size = 0.7)\n",
    "del train_df "
   ]
  },
  {
   "cell_type": "markdown",
   "metadata": {},
   "source": [
    "## Exploring the data"
   ]
  },
  {
   "cell_type": "code",
   "execution_count": 3,
   "metadata": {
    "scrolled": true
   },
   "outputs": [
    {
     "name": "stdout",
     "output_type": "stream",
     "text": [
      "Training data_set shape :  (42000, 784)\n",
      "CV_data_set shpape :  (18000, 784)\n",
      "Training label shape:  (42000,)\n",
      "CV_label shape:  (18000,)\n",
      "\n",
      "The number of class : 10\n"
     ]
    }
   ],
   "source": [
    "print('Training data_set shape : ', train_x.shape)\n",
    "print('CV_data_set shpape : ', train_x_cv.shape)\n",
    "print('Training label shape: ', train_y.shape)\n",
    "print(\"CV_label shape: \", train_y_cv.shape)\n",
    "print()\n",
    "print('The number of class : {}'.format(len(train_y.unique())))"
   ]
  },
  {
   "cell_type": "code",
   "execution_count": 4,
   "metadata": {
    "scrolled": true
   },
   "outputs": [
    {
     "data": {
      "image/png": "[encoded data removed]",
      "text/plain": [
       "<matplotlib.figure.Figure at 0x151917f0>"
      ]
     },
     "metadata": {},
     "output_type": "display_data"
    }
   ],
   "source": [
    "fig, ax = plt.subplots(2, 5, sharex=True, sharey=True, figsize=(10, 4))\n",
    "ax = ax.flatten()\n",
    "\n",
    "for label, ax_ in enumerate(ax):\n",
    "    ax_.imshow(train_x[train_y==label].sample(1).values.reshape(28,28) ,cmap='gray')\n",
    "    ax_.set_title('Class number : {}'.format(label))"
   ]
  },
  {
   "cell_type": "markdown",
   "metadata": {},
   "source": [
    "Random sampled image that is extracted from each class. There are 10 distinct classes."
   ]
  },
  {
   "cell_type": "markdown",
   "metadata": {},
   "source": [
    "## Build Model"
   ]
  },
  {
   "cell_type": "code",
   "execution_count": 5,
   "metadata": {},
   "outputs": [],
   "source": [
    "class ConvNet(object):\n",
    "    \n",
    "    def __init__(self, features, labels, hp, scope, reuse =False):\n",
    "        \n",
    "        self.features = tf.cast(tf.reshape(features,shape = [-1, 28, 28, 1]), tf.float32)\n",
    "        self.labels = tf.cast(labels, tf.int64)                \n",
    "        \n",
    "        with tf.variable_scope(scope, reuse = reuse):\n",
    "            \n",
    "            with tf.variable_scope('Conv1'):\n",
    "                # Now 28 x 28 x 32\n",
    "                self.conv1 = tf.layers.conv2d(self.features, 32, kernel_size=(5,5), strides=(2,2), padding='same', activation=tf.nn.relu, name='conv1')\n",
    "\n",
    "            with tf.variable_scope('Conv2'):\n",
    "                # Now 14 x 14 x 64\n",
    "                self.conv2 = tf.layers.conv2d(self.conv1, 64, kernel_size=(2,2), strides=2, name='conv2')\n",
    "                # Now 8 x 8  x 64\n",
    "                self.pool2 = tf.layers.max_pooling2d(self.conv2, pool_size=(2,2), strides=2, padding='same', name='pool2')\n",
    "                self.out2 = tf.nn.relu(self.pool2, name='out2')\n",
    "                # Now  4 x 4 x 64\n",
    "\n",
    "            with tf.variable_scope('Flatten'):\n",
    "                self.flat = tf.layers.flatten(self.out2, name='flat')\n",
    "                # Now 4*4*64\n",
    "\n",
    "            with tf.variable_scope('Train'):\n",
    "                self.learning_rate = tf.placeholder(tf.float32, name ='learning_rate')\n",
    "                self.logits = tf.layers.dense(self.flat, hp['num_labels'], \n",
    "                                              kernel_initializer = tf.truncated_normal_initializer(stddev=0.1),name='logits')\n",
    "                self.loss = tf.reduce_mean(tf.nn.softmax_cross_entropy_with_logits_v2(labels=tf.one_hot(self.labels, hp['num_labels']), logits=self.logits))\n",
    "                self.global_step = tf.Variable(0, trainable=False, name ='global_step')\n",
    "                self.train_op = tf.train.AdagradOptimizer(self.learning_rate).minimize(self.loss, global_step = self.global_step)\n",
    "\n",
    "            with tf.variable_scope('Eval'):\n",
    "                self.prediction = tf.argmax(self.logits, axis=1, name='prediction')\n",
    "                self.accuracy = tf.reduce_mean(tf.cast(tf.equal(self.prediction, self.labels), tf.float32), name= 'accuracy')\n",
    "            \n",
    "            tf.summary.scalar('Accuray', self.accuracy)\n",
    "            tf.summary.scalar('Loss', self.loss)            \n",
    "#             tf.summary.histogram('Flat', self.flat)            \n",
    "            self.merge = tf.summary.merge_all()"
   ]
  },
  {
   "cell_type": "markdown",
   "metadata": {},
   "source": [
    "## Define Hyperparameters"
   ]
  },
  {
   "cell_type": "code",
   "execution_count": 6,
   "metadata": {},
   "outputs": [],
   "source": [
    "hp = {}\n",
    "\n",
    "hp['num_labels'] = 10\n",
    "hp['num_batch'] = 64\n",
    "hp['epoch_restored'] = 45\n",
    "hp['epoch'] = 60\n",
    "hp['leraning_rate'] = 0.1 # will be decayed"
   ]
  },
  {
   "cell_type": "markdown",
   "metadata": {},
   "source": [
    "## Build Datasets_for train"
   ]
  },
  {
   "cell_type": "code",
   "execution_count": null,
   "metadata": {},
   "outputs": [],
   "source": [
    "tf.reset_default_graph()\n",
    "\n",
    "training_dataset = tf.data.Dataset.from_tensor_slices((train_x, train_y))\n",
    "training_dataset  = training_dataset.batch(hp['num_batch']).repeat(1).shuffle(1000)\n",
    "eval_dataset = tf.data.Dataset.from_tensor_slices((train_x_cv, train_y_cv))\n",
    "eval_dataset = eval_dataset.batch(len(train_x_cv)).repeat(1)\n",
    "\n",
    "iterator = tf.data.Iterator.from_structure(training_dataset.output_types)\n",
    "\n",
    "train_init_op = iterator.make_initializer(training_dataset)\n",
    "eval_init_op = iterator.make_initializer(eval_dataset)\n",
    "\n",
    "features, labels = iterator.get_next()\n",
    "\n",
    "Model = ConvNet(features, labels, hp, 'ConvNet')\n",
    "\n",
    "save_var = tf.global_variables()\n",
    "saver = tf.train.Saver(save_var, max_to_keep=2)"
   ]
  },
  {
   "cell_type": "markdown",
   "metadata": {},
   "source": [
    "## Train The Model"
   ]
  },
  {
   "cell_type": "code",
   "execution_count": null,
   "metadata": {},
   "outputs": [
    {
     "name": "stderr",
     "output_type": "stream",
     "text": [
      " 12%|▏| 2/16 [01:08<08:00, 34.32s/it]"
     ]
    }
   ],
   "source": [
    "with tf.Session() as sess:\n",
    "        \n",
    "    sess.run([train_init_op, tf.global_variables_initializer()])\n",
    "    file_writer = tf.summary.FileWriter('./logs/training', sess.graph)\n",
    "    file_writer_cv = tf.summary.FileWriter('./logs/test', sess.graph)\n",
    "\n",
    "#     saver.restore(sess, tf.train.latest_checkpoint('./ckpt'))    \n",
    "#     print('Graph is loaded')\n",
    "#     sess.run(iterator.initializer)            \n",
    "    \n",
    "    for e in tqdm(range(hp['epoch_restored'], hp['epoch']+1), total=1 + hp['epoch'] - hp['epoch_restored'], ncols = 20):        \n",
    "        \n",
    "        hp['learning_rate'] = 0.0001\n",
    "        \n",
    "        while True:\n",
    "            try:                \n",
    "                sess.run(Model.train_op, feed_dict = {Model.learning_rate : hp['learning_rate']})\n",
    "\n",
    "            except tf.errors.OutOfRangeError:\n",
    "\n",
    "                if e % 5 == 0: \n",
    "                    saver.save(sess, './ckpt/{}_epoch'.format(e))                                                \n",
    "                    \n",
    "                sess.run(eval_init_op)                    \n",
    "                merge, step = sess.run([Model.merge, Model.global_step], feed_dict = {Model.learning_rate : hp['learning_rate']})\n",
    "                file_writer_cv.add_summary(merge, step)\n",
    "                                                                                                                                                                                                            \n",
    "                sess.run(train_init_op)\n",
    "                merge, _ = sess.run([Model.merge, Model.train_op], feed_dict = {Model.learning_rate : hp['learning_rate']})\n",
    "                file_writer.add_summary(merge, step)\n",
    "                break"
   ]
  },
  {
   "cell_type": "markdown",
   "metadata": {},
   "source": [
    "## Training / Crossvalidation  - Accuracy / Loss (tensorboard)"
   ]
  },
  {
   "cell_type": "markdown",
   "metadata": {},
   "source": [
    "![Accuracy](img/Accuracy.PNG)\n",
    "![Loss](img/Loss.PNG)"
   ]
  },
  {
   "cell_type": "markdown",
   "metadata": {},
   "source": [
    "About 90% Accuracy is gaind. Because this Model is underfitted , it can be improved using small learning rate and iterating more steps"
   ]
  },
  {
   "cell_type": "markdown",
   "metadata": {},
   "source": [
    "# Restart the Notebook"
   ]
  },
  {
   "cell_type": "markdown",
   "metadata": {},
   "source": [
    "### Restore Model to Prediction( Test set )"
   ]
  },
  {
   "cell_type": "code",
   "execution_count": 10,
   "metadata": {},
   "outputs": [],
   "source": [
    "import warnings\n",
    "warnings.simplefilter(action='ignore', category=FutureWarning)\n",
    "\n",
    "import numpy as np\n",
    "import pandas as pd\n",
    "import matplotlib.pyplot as plt\n",
    "%matplotlib inline\n",
    "\n",
    "import tensorflow as tf"
   ]
  },
  {
   "cell_type": "code",
   "execution_count": 2,
   "metadata": {},
   "outputs": [],
   "source": [
    "class ConvNet(object):\n",
    "    \n",
    "    def __init__(self, features, labels, hp, scope, reuse =False):\n",
    "        \n",
    "        self.features = tf.cast(tf.reshape(features,shape = [-1, 28, 28, 1]), tf.float32)\n",
    "        self.labels = tf.cast(labels, tf.int64)                \n",
    "        \n",
    "        with tf.variable_scope(scope, reuse = reuse):\n",
    "            \n",
    "            with tf.variable_scope('Conv1'):\n",
    "                # Now 28 x 28 x 32\n",
    "                self.conv1 = tf.layers.conv2d(self.features, 32, kernel_size=(5,5), strides=(2,2), padding='same', activation=tf.nn.relu, name='conv1')\n",
    "\n",
    "            with tf.variable_scope('Conv2'):\n",
    "                # Now 14 x 14 x 64\n",
    "                self.conv2 = tf.layers.conv2d(self.conv1, 64, kernel_size=(2,2), strides=2, name='conv2')\n",
    "                # Now 8 x 8  x 64\n",
    "                self.pool2 = tf.layers.max_pooling2d(self.conv2, pool_size=(2,2), strides=2, padding='same', name='pool2')\n",
    "                self.out2 = tf.nn.relu(self.pool2, name='out2')\n",
    "                # Now  4 x 4 x 64\n",
    "\n",
    "            with tf.variable_scope('Flatten'):\n",
    "                self.flat = tf.layers.flatten(self.out2, name='flat')\n",
    "                # Now 4*4*64\n",
    "\n",
    "            with tf.variable_scope('Train'):\n",
    "                self.learning_rate = tf.placeholder(tf.float32, name ='learning_rate')\n",
    "                self.logits = tf.layers.dense(self.flat, hp['num_labels'], \n",
    "                                              kernel_initializer = tf.truncated_normal_initializer(stddev=0.1),name='logits')\n",
    "                self.loss = tf.reduce_mean(tf.nn.softmax_cross_entropy_with_logits_v2(labels=tf.one_hot(self.labels, hp['num_labels']), logits=self.logits))\n",
    "                self.global_step = tf.Variable(0, trainable=False, name ='global_step')\n",
    "                self.train_op = tf.train.AdagradOptimizer(self.learning_rate).minimize(self.loss, global_step = self.global_step)\n",
    "\n",
    "            with tf.variable_scope('Eval'):\n",
    "                self.prediction = tf.argmax(self.logits, axis=1, name='prediction')\n",
    "                self.accuracy = tf.reduce_mean(tf.cast(tf.equal(self.prediction, self.labels), tf.float32), name= 'accuracy')\n",
    "            \n",
    "            tf.summary.scalar('Accuray', self.accuracy)\n",
    "            tf.summary.scalar('Loss', self.loss)            \n",
    "            tf.summary.histogram('Flat', self.flat)            \n",
    "            self.merge = tf.summary.merge_all()"
   ]
  },
  {
   "cell_type": "code",
   "execution_count": 3,
   "metadata": {},
   "outputs": [],
   "source": [
    "hp = {}\n",
    "\n",
    "hp['num_labels'] = 10\n",
    "hp['num_batch'] = 64\n",
    "hp['epoch_restored'] = 54\n",
    "hp['epoch'] = 60\n",
    "hp['leraning_rate'] = 0.1 # will be decayed"
   ]
  },
  {
   "cell_type": "code",
   "execution_count": 4,
   "metadata": {},
   "outputs": [],
   "source": [
    "tf.reset_default_graph()\n",
    "\n",
    "test_df = pd.read_csv('./data/fashion-mnist_test.csv')\n",
    "test_x = test_df.xs(list(test_df.columns)[1:], axis=1)\n",
    "test_y = test_df['label']\n",
    "del test_df\n",
    "\n",
    "test_x.apply( lambda x :(x - min(x))/ (max(x) - min(x)))\n",
    "dataset = tf.data.Dataset.from_tensor_slices((test_x, test_y))\n",
    "dataset  = dataset.batch(len(test_y)).repeat(1)\n",
    "iterator = dataset.make_initializable_iterator()\n",
    "inputs = iterator.get_next()\n",
    "\n",
    "features, labels = inputs\n",
    "Model = ConvNet(features, labels, hp, 'ConvNet')\n",
    "\n",
    "save_var = tf.global_variables()\n",
    "saver = tf.train.Saver(save_var)"
   ]
  },
  {
   "cell_type": "code",
   "execution_count": 64,
   "metadata": {
    "scrolled": true
   },
   "outputs": [
    {
     "name": "stdout",
     "output_type": "stream",
     "text": [
      "INFO:tensorflow:Restoring parameters from ./ckpt\\58_epoch\n",
      "Loss : 0.35807910561561584 | Test_Accuracy : 0.8787000179290771\n"
     ]
    }
   ],
   "source": [
    "with tf.Session() as sess:\n",
    "    \n",
    "    saver.restore(sess, tf.train.latest_checkpoint('./ckpt'))\n",
    "    sess.run(iterator.initializer)\n",
    "    \n",
    "    while True:        \n",
    "        try:                \n",
    "            prediction, loss, accuracy = sess.run([Model.prediction, \n",
    "                                                   Model.loss, \n",
    "                                                   Model.accuracy], \n",
    "                                                  feed_dict = {Model.learning_rate : hp['leraning_rate']})\n",
    "            \n",
    "            print('Loss : {} | Test_Accuracy : {}'.format(loss, accuracy))\n",
    "\n",
    "        except tf.errors.OutOfRangeError:                      \n",
    "            break"
   ]
  },
  {
   "cell_type": "code",
   "execution_count": 80,
   "metadata": {},
   "outputs": [],
   "source": [
    "def show_wrong_examples(test_x, test_y, prediction, n=5):\n",
    "    wrong_idx = (test_y != prediction)\n",
    "    wrong_x = test_x[wrong_idx]\n",
    "    wrong_y = test_y[wrong_idx]\n",
    "    wrong_pred_y = prediction[wrong_idx]\n",
    "    df = pd.DataFrame({'pred' : wrong_pred_y}, index=wrong_y.index).join(wrong_y).join(wrong_x)\n",
    "\n",
    "    sample = df.sample(n)\n",
    "    fig, axes = plt.subplots(n,3, figsize = (6, 2*n))\n",
    "    axes = axes.flatten()\n",
    "    for idx, ax in enumerate(axes):\n",
    "        if idx % 3 == 0:\n",
    "            ax.imshow(sample.xs(df.columns[2:],axis=1).iloc[int(idx/3)].reshape(28,28), cmap='gray')\n",
    "            ax.set_title('True/Pred : {} / {}'.format(sample.label.iloc[int(idx/3)], sample.pred.iloc[int(idx/3)]))\n",
    "            ax.axis('off')\n",
    "\n",
    "        elif idx %3 == 2:\n",
    "            ax.imshow(test_x[test_y==sample.pred.iloc[int(idx/3)]].sample(1).values.reshape(28,28), cmap='gray')\n",
    "            ax.set_title('True {} Class'.format(sample.pred.iloc[int(idx/3)]))\n",
    "            ax.axis('off')\n",
    "\n",
    "        elif idx %3 == 1:\n",
    "            ax.imshow(test_x[test_y==sample.label.iloc[int(idx/3)]].sample(1).values.reshape(28,28), cmap='gray')\n",
    "            ax.set_title('True {} Class'.format(sample.label.iloc[int(idx/3)]))\n",
    "            ax.axis('off')"
   ]
  },
  {
   "cell_type": "code",
   "execution_count": 87,
   "metadata": {},
   "outputs": [
    {
     "data": {
      "image/png": "[encoded data removed]",
      "text/plain": [
       "<matplotlib.figure.Figure at 0x3da7dc50>"
      ]
     },
     "metadata": {},
     "output_type": "display_data"
    }
   ],
   "source": [
    "show_wrong_examples(test_x, test_y, prediction, 5)"
   ]
  }
 ],
 "metadata": {
  "kernelspec": {
   "display_name": "Python [default]",
   "language": "python",
   "name": "python3"
  },
  "language_info": {
   "codemirror_mode": {
    "name": "ipython",
    "version": 3
   },
   "file_extension": ".py",
   "mimetype": "text/x-python",
   "name": "python",
   "nbconvert_exporter": "python",
   "pygments_lexer": "ipython3",
   "version": "3.6.3"
  }
 },
 "nbformat": 4,
 "nbformat_minor": 2
}
